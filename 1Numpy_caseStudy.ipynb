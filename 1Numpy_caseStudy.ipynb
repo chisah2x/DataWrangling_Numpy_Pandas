{
 "cells": [
  {
   "cell_type": "markdown",
   "id": "95b63c5f",
   "metadata": {
    "id": "lLGE7IEBj9sr"
   },
   "source": [
    "# example"
   ]
  },
  {
   "cell_type": "markdown",
   "id": "d57004c8",
   "metadata": {
    "id": "tBbO_b9UqF_t"
   },
   "source": [
    "#### [1] Cut the Rope\n",
    "You are given a rope of length 5m. Cut the rope into 9 parts such that each part is of equal length.\n",
    "Note:Array elements are the points where cut is to be made and round upto 2 decimal place.\n",
    "Print the array element."
   ]
  },
  {
   "cell_type": "code",
   "execution_count": null,
   "id": "32a5f1dc",
   "metadata": {
    "colab": {
     "base_uri": "https://localhost:8080/"
    },
    "id": "kTL9MZ6KqcK2",
    "outputId": "be7b0928-174f-4ce5-9ff8-9adc707ea0c9"
   },
   "outputs": [
    {
     "name": "stdout",
     "output_type": "stream",
     "text": [
      "0.56\n",
      "1.11\n",
      "1.67\n",
      "2.22\n",
      "2.78\n",
      "3.33\n",
      "3.89\n",
      "4.44\n",
      "5.00\n"
     ]
    }
   ],
   "source": [
    "import numpy as np\n",
    "a = np.linspace(0,5,10)\n",
    "\n",
    "for ele in a[1:10]:\n",
    "    print(f\"{ele:.2f}\")"
   ]
  },
  {
   "cell_type": "markdown",
   "id": "41eb84b0",
   "metadata": {
    "id": "recb_qUks908"
   },
   "source": [
    "#### [2] Non-Zero elements"
   ]
  },
  {
   "cell_type": "markdown",
   "id": "71af06e5",
   "metadata": {
    "id": "u2aESwPkjabR"
   },
   "source": [
    "#### Find indices of non-zero elements from the array [1,2,0,0,4,0] ? Print the index of non-zero elements."
   ]
  },
  {
   "cell_type": "code",
   "execution_count": null,
   "id": "2fd02da0",
   "metadata": {
    "colab": {
     "base_uri": "https://localhost:8080/"
    },
    "id": "3XNcx2YjstlF",
    "outputId": "34f2f1da-b01b-4c43-f244-e6409f750833"
   },
   "outputs": [
    {
     "name": "stdout",
     "output_type": "stream",
     "text": [
      "0 1 4 "
     ]
    }
   ],
   "source": [
    "import numpy as np\n",
    "# a = [1,2,0,0,4,0] \n",
    "\n",
    "# for i in range(len(a)):\n",
    "#     if a[i] != 0:\n",
    "#         print(i, end=' ')\n",
    "\n",
    "a = np.array([1,2,0,0,4,0])\n",
    "index = np.where(a != 0)\n",
    "for i in index[0]:\n",
    "    print(i, end=' ') # => 0 1 4 "
   ]
  },
  {
   "cell_type": "code",
   "execution_count": null,
   "id": "5fe69a07",
   "metadata": {
    "colab": {
     "base_uri": "https://localhost:8080/"
    },
    "id": "n6mn_IDMtUq4",
    "outputId": "480dc426-9366-4ec7-b972-e575d233ee3d"
   },
   "outputs": [
    {
     "name": "stdout",
     "output_type": "stream",
     "text": [
      "(array([0, 1, 4]),)\n"
     ]
    }
   ],
   "source": [
    "print(index)\n",
    "# for i in index:\n",
    "#     print(i, end=' ')  => [0 1 4] "
   ]
  },
  {
   "cell_type": "code",
   "execution_count": null,
   "id": "2c63bfc0",
   "metadata": {
    "colab": {
     "base_uri": "https://localhost:8080/"
    },
    "id": "1Qo7-dPntqdW",
    "outputId": "4672d255-809f-453b-9210-578cf05de9f4"
   },
   "outputs": [
    {
     "data": {
      "text/plain": [
       "array([0, 1, 4])"
      ]
     },
     "execution_count": 8,
     "metadata": {},
     "output_type": "execute_result"
    }
   ],
   "source": [
    "index[0]"
   ]
  },
  {
   "cell_type": "code",
   "execution_count": null,
   "id": "9d1b0a06",
   "metadata": {
    "colab": {
     "base_uri": "https://localhost:8080/"
    },
    "id": "0O3wKN4rtetj",
    "outputId": "14c3c08d-1dde-4403-ec44-6228bbc1c7cb"
   },
   "outputs": [
    {
     "name": "stdout",
     "output_type": "stream",
     "text": [
      "[0 1 4]\n"
     ]
    }
   ],
   "source": [
    "print(*index)"
   ]
  },
  {
   "cell_type": "code",
   "execution_count": null,
   "id": "746e9de9",
   "metadata": {
    "colab": {
     "base_uri": "https://localhost:8080/"
    },
    "id": "8c9Ub-yJuh3t",
    "outputId": "4c8a00e1-600a-4d99-8e62-2ad704faa4b6"
   },
   "outputs": [
    {
     "name": "stdout",
     "output_type": "stream",
     "text": [
      "(array([0, 1, 4]),)\n"
     ]
    }
   ],
   "source": [
    "print(np.where(a != 0))"
   ]
  },
  {
   "cell_type": "code",
   "execution_count": null,
   "id": "ba12131b",
   "metadata": {
    "colab": {
     "base_uri": "https://localhost:8080/"
    },
    "id": "AwRExL-Guzrl",
    "outputId": "c25c5904-6d35-422d-a24c-fe16959c8cb4"
   },
   "outputs": [
    {
     "name": "stdout",
     "output_type": "stream",
     "text": [
      "[0 1 4]\n",
      "0\n",
      "1\n",
      "4\n"
     ]
    }
   ],
   "source": [
    "print(np.where(a != 0)[0])\n",
    "for indx in np.where(a != 0)[0]:\n",
    "    print(indx)"
   ]
  },
  {
   "cell_type": "code",
   "execution_count": null,
   "id": "cc7df801",
   "metadata": {
    "colab": {
     "base_uri": "https://localhost:8080/"
    },
    "id": "rnTv0muJvbEu",
    "outputId": "694534fd-feb7-4e8c-d6a2-210daffe619b"
   },
   "outputs": [
    {
     "name": "stdout",
     "output_type": "stream",
     "text": [
      "1 4 7 "
     ]
    }
   ],
   "source": [
    "a = np.array([ 1,  3,  5,  7,  9, 11, 13, 15, 17, 19])\n",
    "index = np.where(a%3 == 0)\n",
    "\n",
    "for i in index[0]:\n",
    "    print(i, end=' ')"
   ]
  },
  {
   "cell_type": "code",
   "execution_count": null,
   "id": "e26d6c49",
   "metadata": {
    "colab": {
     "base_uri": "https://localhost:8080/"
    },
    "id": "Jqa3rhn3vdvk",
    "outputId": "ee7b6189-9809-4acc-9fa0-c9ebd4243d67"
   },
   "outputs": [
    {
     "name": "stdout",
     "output_type": "stream",
     "text": [
      "1 4 7 "
     ]
    }
   ],
   "source": [
    "for i in np.where(a%3 == 0)[0]:\n",
    "    print(i, end=' ')"
   ]
  },
  {
   "cell_type": "markdown",
   "id": "14e17e17",
   "metadata": {
    "id": "ZFy870gjwxFc"
   },
   "source": [
    "##### Given an integer array of size 10. Replace the odd number in numpy array with -1 ?"
   ]
  },
  {
   "cell_type": "code",
   "execution_count": null,
   "id": "915769fa",
   "metadata": {
    "colab": {
     "base_uri": "https://localhost:8080/"
    },
    "id": "1TJpoVMowzt7",
    "outputId": "e02a53a0-e188-4b48-f85f-1f882db296a1"
   },
   "outputs": [
    {
     "name": "stdout",
     "output_type": "stream",
     "text": [
      "-1 2 -1 4 -1 6 -1 8 -1 10 "
     ]
    }
   ],
   "source": [
    "import numpy as np\n",
    "a = np.arange(1,11,1)\n",
    "a[ a%2 != 0] = -1\n",
    "for ele in a:\n",
    "    print(ele, end=' ')"
   ]
  },
  {
   "cell_type": "code",
   "execution_count": null,
   "id": "2abbf264",
   "metadata": {
    "colab": {
     "base_uri": "https://localhost:8080/"
    },
    "id": "X1uj_SLLjl0O",
    "outputId": "c934e151-56fc-4fba-83bf-a96d6c6f8345"
   },
   "outputs": [
    {
     "name": "stdout",
     "output_type": "stream",
     "text": [
      "[ 1  2  3  4  5  6  7  8  9 10]\n",
      "[-1  2 -1  4 -1  6 -1  8 -1 10]\n"
     ]
    }
   ],
   "source": [
    "a = np.arange(1,11,1)\n",
    "print(a)\n",
    "print(np.where(a%2 != 0, -1, a))"
   ]
  },
  {
   "cell_type": "markdown",
   "id": "31169ab5",
   "metadata": {
    "id": "tYZkUQN1xJlg"
   },
   "source": [
    "###Given an integer array of size 9 and replace the first occurrence of maximum value by 0?"
   ]
  },
  {
   "cell_type": "code",
   "execution_count": null,
   "id": "f07de9ac",
   "metadata": {
    "colab": {
     "base_uri": "https://localhost:8080/"
    },
    "id": "gmtRjqhLxMjc",
    "outputId": "120f7353-0e17-415e-bfc3-e33d513bf958"
   },
   "outputs": [
    {
     "name": "stdout",
     "output_type": "stream",
     "text": [
      "11 2 13 4 15 6 0 8 19 "
     ]
    }
   ],
   "source": [
    "a = np.array([11, 2, 13, 4, 15, 6, 27, 8, 19])\n",
    "a [ a.argmax()] = 0\n",
    "for ele in a:\n",
    "    print(ele, end=' ')"
   ]
  },
  {
   "cell_type": "markdown",
   "id": "2b0b5434",
   "metadata": {
    "id": "URH_1WaKxt3_"
   },
   "source": [
    "#### Negate Elements\n",
    "\n",
    "Given a 1D array, negate all elements which are between 3 and 8 (both inclusive)?"
   ]
  },
  {
   "cell_type": "code",
   "execution_count": null,
   "id": "bd42469f",
   "metadata": {
    "colab": {
     "base_uri": "https://localhost:8080/"
    },
    "id": "3RdQhKDJxdGA",
    "outputId": "154e8dae-715b-47bc-a6cd-9092238b91c9"
   },
   "outputs": [
    {
     "name": "stdout",
     "output_type": "stream",
     "text": [
      "1 2 -3 -4 -5 -6 -7 -8 9 10 "
     ]
    }
   ],
   "source": [
    "a = np.arange(1, 11)\n",
    "\n",
    "index = np.where((a>=3) & (a<=8))\n",
    "a[index] *= -1\n",
    "for ele in a:\n",
    "    print(ele, end=' ')"
   ]
  },
  {
   "cell_type": "code",
   "execution_count": null,
   "id": "908903df",
   "metadata": {
    "colab": {
     "base_uri": "https://localhost:8080/"
    },
    "id": "qacMnAHVyDct",
    "outputId": "9f0dd402-9ddc-4663-c8d0-464efe880f3d"
   },
   "outputs": [
    {
     "name": "stdout",
     "output_type": "stream",
     "text": [
      "[-3 -4 -5 -6 -7 -8]\n"
     ]
    }
   ],
   "source": [
    "a = np.arange(1, 11)\n",
    "index = np.where((a>=3) & (a<=8))\n",
    "a = a[index]\n",
    "a = np.negative(a)\n",
    "print(a)"
   ]
  },
  {
   "cell_type": "code",
   "execution_count": null,
   "id": "61139e20",
   "metadata": {
    "colab": {
     "base_uri": "https://localhost:8080/"
    },
    "id": "DAKIc4aCi_Wq",
    "outputId": "5d10f65a-c87f-445d-825d-1b945d99a926"
   },
   "outputs": [
    {
     "data": {
      "text/plain": [
       "array([ 1,  2, -3, -4, -5, -6, -7, -8,  9, 10])"
      ]
     },
     "execution_count": 47,
     "metadata": {},
     "output_type": "execute_result"
    }
   ],
   "source": [
    "np.where((a>=3) & (a<=8), -1*a, a)"
   ]
  },
  {
   "cell_type": "markdown",
   "id": "c8a2118c",
   "metadata": {
    "id": "7UkV7jHKy7tJ"
   },
   "source": [
    "#### Print the age of those students whose height is above 155 cm."
   ]
  },
  {
   "cell_type": "code",
   "execution_count": null,
   "id": "ded5b7a8",
   "metadata": {
    "colab": {
     "base_uri": "https://localhost:8080/"
    },
    "id": "ag-9u3ewy9de",
    "outputId": "a35fe262-49c0-45c0-963d-eef40c93fd54"
   },
   "outputs": [
    {
     "name": "stdout",
     "output_type": "stream",
     "text": [
      "15 156\n",
      "19 180\n",
      "20 162\n",
      "21 157\n",
      "22 158\n",
      "23 179\n",
      "16 182\n",
      "18 183\n",
      "20 159\n",
      "15 160\n",
      "17 172\n"
     ]
    }
   ],
   "source": [
    "age=np.array([15,17,19,20,14,21,16,19,13,20,22,23,21,16,18,19,20,15,17,18])\n",
    "height=np.array([156,144,180,162,152,157,154,155,151,150,158,179,126,182,183,154,159,160,172,149])\n",
    "\n",
    "index = np.where(height>155)\n",
    "b = age[index]\n",
    "c = height[index]\n",
    "\n",
    "for i in range(len(b)) :\n",
    "    print(b[i],c[i])"
   ]
  },
  {
   "cell_type": "markdown",
   "id": "12827a43",
   "metadata": {
    "id": "5oRrdt06zXXz"
   },
   "source": [
    "#### [3] Sort by column(argsort() function)\n",
    "Sort a given 2D array of shape (4, 5) by 2nd column (i.e. column at index 1) in ascending order.\n",
    "That means, we should re-arrange complete row based on 2nd columns' values."
   ]
  },
  {
   "cell_type": "code",
   "execution_count": null,
   "id": "57d98df7",
   "metadata": {
    "colab": {
     "base_uri": "https://localhost:8080/"
    },
    "id": "_PxFnRc5ztpy",
    "outputId": "aeebdb48-91d5-441c-d5f1-d0a19210e75e"
   },
   "outputs": [
    {
     "name": "stdout",
     "output_type": "stream",
     "text": [
      "[[ 6  5  4  3  2]\n",
      " [11 10  9  8  7]\n",
      " [16 15 14 13 12]\n",
      " [21 20 19 18 17]]\n",
      "[[21 20 19 18 17]\n",
      " [16 15 14 13 12]\n",
      " [11 10  9  8  7]\n",
      " [ 6  5  4  3  2]]\n"
     ]
    }
   ],
   "source": [
    "import numpy as np\n",
    "a = np.arange(21,1,-1)\n",
    "a = a.reshape(4,5)\n",
    "#sorted_arr = a[np.argsort(a[:,1])]    \n",
    "sorted_arr = a[a[:,1].argsort()]    \n",
    "print(sorted_arr)\n",
    "print(a)"
   ]
  },
  {
   "cell_type": "markdown",
   "id": "4950fc2f",
   "metadata": {
    "id": "9sFDHualuOtG"
   },
   "source": [
    "#### [4] Killed in USA\n",
    "Find value of killed column only where country == ‘United States’? Print 0 in place of missing values. Print count of Killed as integer value. Killed1 Killed2 Killed3. . ."
   ]
  },
  {
   "cell_type": "code",
   "execution_count": null,
   "id": "d4ffe922",
   "metadata": {
    "colab": {
     "base_uri": "https://localhost:8080/"
    },
    "id": "1XANP4ZG3BaD",
    "outputId": "eada5a38-8487-4512-87b2-4cca08b2c440"
   },
   "outputs": [
    {
     "name": "stdout",
     "output_type": "stream",
     "text": [
      "3771\n"
     ]
    }
   ],
   "source": [
    "import csv\n",
    "with open('/content/drive/MyDrive/Colab Notebooks/10terrorismData.csv') as file_obj:\n",
    "    file_data = csv.DictReader(file_obj, skipinitialspace= True)\n",
    "    killed = []\n",
    "    for row in file_data:\n",
    "        if row['Country'] == 'United States':\n",
    "            killed.append(row['Killed'])\n",
    "\n",
    "import numpy as np\n",
    "killed_np = np.array(killed)\n",
    "killed_np[killed_np==''] = '0.0'\n",
    "killed_np = np.array(killed_np, dtype=float)\n",
    "# for kill in killed_np:\n",
    "#     print(int(kill))\n",
    "tatal_killed = int(np.sum(killed_np))\n",
    "print(tatal_killed)"
   ]
  },
  {
   "cell_type": "code",
   "execution_count": null,
   "id": "1ac297fa",
   "metadata": {
    "colab": {
     "base_uri": "https://localhost:8080/"
    },
    "id": "cYw1sER44XWI",
    "outputId": "2fe3eead-744a-4ae2-c7ec-3fade453a502"
   },
   "outputs": [
    {
     "name": "stdout",
     "output_type": "stream",
     "text": [
      "3771.0\n"
     ]
    }
   ],
   "source": [
    "import numpy as np\n",
    "import csv\n",
    "\n",
    "with open('/content/drive/MyDrive/Colab Notebooks/10terrorismData.csv') as obj:\n",
    "    data = csv.DictReader(obj, skipinitialspace=True)\n",
    "    \n",
    "    country = []\n",
    "    killed = []\n",
    "    for row in data:\n",
    "        killed.append(row['Killed'])\n",
    "        country.append(row['Country'])\n",
    "        \n",
    "np_killed = np.array(killed)\n",
    "np_killed[np_killed == ''] = '0.0'\n",
    "np_killed = np.array(np_killed, dtype=float)\n",
    "\n",
    "np_country = np.array(country)\n",
    "bool_usa = np_country == 'United States'\n",
    "usa_killed = np_killed[bool_usa]\n",
    "\n",
    "#total_killed_in_us = np.sum(usa_killed)   \n",
    "#total_killed_in_us = sum(usa_killed) \n",
    "#total_killed_in_us = usa_killed.sum() \n",
    "\n",
    "# for kill in usa_killed:\n",
    "#     print(int(kill))\n",
    "print(usa_killed.sum())"
   ]
  },
  {
   "cell_type": "code",
   "execution_count": null,
   "id": "b1a71843",
   "metadata": {
    "colab": {
     "base_uri": "https://localhost:8080/"
    },
    "id": "j47hn4TWQtU7",
    "outputId": "06119875-acc3-4307-85fd-e2bc24923f0b"
   },
   "outputs": [
    {
     "name": "stdout",
     "output_type": "stream",
     "text": [
      "[False False False ... False False False]\n",
      "[]\n",
      "1167.0\n",
      "51372.0\n"
     ]
    }
   ],
   "source": [
    "import numpy as np\n",
    "import csv\n",
    "\n",
    "with open('/content/drive/MyDrive/Colab Notebooks/10year2017.csv') as file_obj:\n",
    "    file_dict = csv.DictReader(file_obj, skipinitialspace = True)\n",
    "    killed = []\n",
    "    wounded = []\n",
    "    country = []\n",
    "    for row in file_dict:\n",
    "        killed.append(row['Killed'])\n",
    "        wounded.append(row['Wounded'])\n",
    "        country.append(row['Country'])\n",
    "\n",
    "#np_killed = np.array(killed, dtype = int) error bcz str can't directly converted into int\n",
    "#np_killed = np.array(killed, dtype = float) error bcz of missing value\n",
    "np_killed = np.array(killed)\n",
    "print(np_killed=='')\n",
    "#print(np_killed[np_killed=='']) #will return all missing value array\n",
    "np_killed[np_killed==''] = '0.0'\n",
    "print(np_killed[np_killed=='']) #returning empty array as there is no missing value now\n",
    "np_killed = np.array(np_killed, dtype=float)\n",
    "\n",
    "np_wounded = np.array(wounded)\n",
    "np_wounded[np_wounded == ''] = '0.0' #bcz if we remove it then size will may differ from other matrix\n",
    "np_wounded = np.array(np_wounded, dtype=float)\n",
    "\n",
    "killed_wounded = np_killed + np_wounded\n",
    "\n",
    "#now i want to know only india's data\n",
    "np_country = np.array(country)\n",
    "#np_country[np_country == 'India']\n",
    "bool_country = np_country == 'India'\n",
    "ans = killed_wounded[bool_country]\n",
    "#print(ans)\n",
    "print(sum(ans)) #india's killed and wounded people\n",
    "print(sum(killed_wounded)) #total"
   ]
  },
  {
   "cell_type": "markdown",
   "id": "64185e6e",
   "metadata": {
    "id": "4A897eTS6YCr"
   },
   "source": [
    "#### [5] Terrorism Day\n",
    "Find the number of attack held between day 10 and day 20 ignoring the year and month(including both day) Print count of NumberOFAttack as integer value."
   ]
  },
  {
   "cell_type": "code",
   "execution_count": null,
   "id": "8daccf05",
   "metadata": {
    "colab": {
     "base_uri": "https://localhost:8080/"
    },
    "id": "Vh6Y1TQE6qG4",
    "outputId": "93be8d8d-efb3-4a83-ee49-c0bb4892c54c"
   },
   "outputs": [
    {
     "name": "stdout",
     "output_type": "stream",
     "text": [
      "66330\n"
     ]
    }
   ],
   "source": [
    "import csv\n",
    "import numpy as np\n",
    "\n",
    "file_obj = open('/content/drive/MyDrive/Colab Notebooks/10terrorismData.csv')\n",
    "data = csv.DictReader(file_obj, skipinitialspace=True)\n",
    "#file_obj.close()\n",
    "day_wise_attack = []\n",
    "for row in data:\n",
    "    day_wise_attack.append(row['Day'])\n",
    "file_obj.close()  \n",
    "\n",
    "npDay = np.array(day_wise_attack, dtype=float)\n",
    "npDay = npDay[(npDay>=10) & (npDay<=20)]\n",
    "print(npDay.shape[0])\n",
    "#print(len(npDay))"
   ]
  },
  {
   "cell_type": "markdown",
   "id": "99d705c8",
   "metadata": {
    "id": "_QmbSiSX_fwh"
   },
   "source": [
    "#### [6] Terrorism Date\n",
    "Find the number of attack held between 1 Jan 2010 and 31 Jan 2010?(including both date). Note Ignore the case where day is 0 Print count of NumberOFAttack as integer value."
   ]
  },
  {
   "cell_type": "code",
   "execution_count": null,
   "id": "7aceeb20",
   "metadata": {
    "colab": {
     "base_uri": "https://localhost:8080/"
    },
    "id": "MUMfF6qCArXu",
    "outputId": "31618b7e-b82c-4fcb-bf91-a524dcc7bb64"
   },
   "outputs": [
    {
     "name": "stdout",
     "output_type": "stream",
     "text": [
      "271\n"
     ]
    }
   ],
   "source": [
    "import numpy as np\n",
    "import csv\n",
    "\n",
    "path = '/content/drive/MyDrive/Colab Notebooks/10terrorismData.csv'\n",
    "date = []\n",
    "with open(path, 'r', encoding = 'ISO-8859-1') as data:\n",
    "    reader = csv.DictReader(data, skipinitialspace=True)\n",
    "    for row in reader:\n",
    "        date.append([row['Day'], row['Month'], row['Year']])\n",
    "\n",
    "npDate = np.array(date, dtype=int)\n",
    "npDate = npDate[npDate[:, 2] == 2010]\n",
    "npDate = npDate[npDate[:, 1] == 1]\n",
    "npDate = npDate[npDate[:, 0] >= 1]\n",
    "print(npDate.shape[0])"
   ]
  },
  {
   "cell_type": "code",
   "execution_count": null,
   "id": "fa0a7980",
   "metadata": {
    "colab": {
     "base_uri": "https://localhost:8080/"
    },
    "id": "cKu97G5u6MQZ",
    "outputId": "cebe6a0e-1698-4083-9905-b996797d4edb"
   },
   "outputs": [
    {
     "name": "stdout",
     "output_type": "stream",
     "text": [
      "[False False False ... False False False]\n",
      "14842\n",
      "271\n",
      "271\n"
     ]
    }
   ],
   "source": [
    "#using boolean array\n",
    "import csv\n",
    "import numpy as np\n",
    "data_1 = open('/content/drive/MyDrive/Colab Notebooks/10terrorismData.csv' )\n",
    "data = csv.DictReader(data_1,  skipinitialspace = 'True')\n",
    "\n",
    "year = []\n",
    "month = []\n",
    "day = []\n",
    "\n",
    "for row in data:\n",
    "    if(row['Day']!='0'): #0 excluded\n",
    "        year.append(row['Year'])\n",
    "        month.append(row['Month'])   \n",
    "\n",
    "np_year = np.array(year , dtype = float)\n",
    "np_month = np.array(month , dtype = float)\n",
    "\n",
    "year2010 = np_year == 2010 #boolean\n",
    "month = np_month == 1 #boolean\n",
    "arr = year2010[month] #boolean False False = False, F T = T\n",
    "print(arr)\n",
    "print(arr.shape[0])\n",
    "print(np.sum(arr)) #  T=1 F=0\n",
    "\n",
    "np_month = np_month[year2010]\n",
    "np_month = np_month[np_month == 1] \n",
    "print(np_month.shape[0])"
   ]
  },
  {
   "cell_type": "code",
   "execution_count": null,
   "id": "89fec5de",
   "metadata": {
    "colab": {
     "base_uri": "https://localhost:8080/"
    },
    "id": "ABiZ7nVfrECP",
    "outputId": "d1897cec-47e2-4dab-da7d-b065a83c0e13"
   },
   "outputs": [
    {
     "name": "stdout",
     "output_type": "stream",
     "text": [
      "270\n"
     ]
    }
   ],
   "source": [
    "#using where\n",
    "import numpy as np\n",
    "import csv\n",
    "\n",
    "with open('/content/drive/MyDrive/Colab Notebooks/10terrorismData.csv') as obj :\n",
    "    data = csv.DictReader(obj, skipinitialspace=True)\n",
    "    \n",
    "    day = []\n",
    "    month = []\n",
    "    year = []\n",
    "    for row in data:\n",
    "        day.append(row['Day'])\n",
    "        month.append(row['Month'])\n",
    "        year.append(row['Year'])\n",
    "        \n",
    "npYear = np.array(year, dtype=float)\n",
    "index_2010 = np.where(npYear==2010)\n",
    "\n",
    "np_month = np.array(month, dtype=float)\n",
    "np_monthsOf2010 = np_month[index_2010]\n",
    "index_jan2010 = np.where(np_monthsOf2010 == 1)\n",
    "\n",
    "np_day = np.array(day, dtype=float)\n",
    "np_allDays_jan2010 = np_day[index_jan2010]\n",
    "#index = np.where( &)\n",
    "\n",
    "np_excluding_Zero = np_allDays_jan2010[(np_allDays_jan2010>=1) & (np_allDays_jan2010<=31)]\n",
    "\n",
    "ans = np_excluding_Zero.shape[0]\n",
    "print(int(ans))"
   ]
  },
  {
   "cell_type": "markdown",
   "id": "d415b1c3",
   "metadata": {
    "id": "rmIHjNgoE0pS"
   },
   "source": [
    "#### [7] Terror Casualty Attack\n",
    "As we knew the Kargil ( in Jammu and Kashmir) War that took place between May 1999 and July 1999 (3 Months) ,so there was a huge conflict in Kashmir Valley during this period.\n",
    "\n",
    "In this dataset, there is no information regarding the war between the two countries to find out the casualty during the war.\n",
    "\n",
    "So find out the attack in this period in which maximum casualties happened. Note : Casualty = Killed + Wounded.Fill the empty value in killed or wounded feature to 0.\n",
    "\n",
    "Output Format : Casualty(int) City TerroristGroup"
   ]
  },
  {
   "cell_type": "code",
   "execution_count": null,
   "id": "56fd06ea",
   "metadata": {
    "colab": {
     "base_uri": "https://localhost:8080/"
    },
    "id": "xUy8ekcHFoAT",
    "outputId": "8bb72f30-ca80-4bcc-a19e-4b8f38f6952b"
   },
   "outputs": [
    {
     "name": "stdout",
     "output_type": "stream",
     "text": [
      "22 Kargil District Separatists\n"
     ]
    }
   ],
   "source": [
    "import csv\n",
    "import numpy as np\n",
    "casualty=[]\n",
    "city=[]\n",
    "## Here we filter out the data\n",
    "with open('/content/drive/MyDrive/Colab Notebooks/10terrorismData.csv', 'r', encoding = 'ISO-8859-1') as data:\n",
    "    reader = csv.DictReader(data, skipinitialspace = True)\n",
    "    for row in reader:\n",
    "        if row['State']=='Jammu and Kashmir' and row['Year']=='1999':\n",
    "            if row['Month']=='5' or row['Month']=='6' or row['Month']==7:\n",
    "                city.append([row['City'],row['Group']])\n",
    "                casualty.append([row['Killed'],row['Wounded']])\n",
    "npcasualty=np.array(casualty)\n",
    "npcity=np.array(city)\n",
    "## Coverting the empty values present in Killed and wounded feature to Zero \n",
    "npcasualty[npcasualty=='']=0\n",
    "## Converting the string value to float \n",
    "npcasualty=np.array(npcasualty,dtype=float)\n",
    "## Now Summing up the Killed and wounded feature to find out the casualty \n",
    "npcasualty=np.sum(npcasualty,axis=1) \n",
    "index=np.argmax(npcasualty)\n",
    "print(int(npcasualty[index]),npcity[index][0],npcity[index][1]) "
   ]
  },
  {
   "cell_type": "markdown",
   "id": "757b3ccc",
   "metadata": {
    "id": "vSwyfF48HqBZ"
   },
   "source": [
    "#### [8] Terror Casualty Red\n",
    "Find the casualty in the Red Corridor States ? Mainly Red corridor states include Jharkhand, Odisha, Andhra Pradesh, and Chhattisgarh.\n",
    "Note: Casualty=Killed +Wounded\n",
    "Print count of Casualty as integer value."
   ]
  },
  {
   "cell_type": "code",
   "execution_count": null,
   "id": "97481b73",
   "metadata": {
    "colab": {
     "base_uri": "https://localhost:8080/"
    },
    "id": "o54tpVqPH8P5",
    "outputId": "f346a6ec-ba58-46e4-fa87-16b354292f41"
   },
   "outputs": [
    {
     "name": "stdout",
     "output_type": "stream",
     "text": [
      "5628\n"
     ]
    }
   ],
   "source": [
    "import numpy as np\n",
    "import csv\n",
    "path = '/content/drive/MyDrive/Colab Notebooks/10terrorismData.csv'\n",
    "casuality = []\n",
    "with open(path) as file_data:\n",
    "    file_data = csv.DictReader(file_data, skipinitialspace=True)\n",
    "    for row in file_data:\n",
    "        if(row['State']=='Jharkhand' or row['State']=='Odisha' or row['State']=='Andhra Pradesh' or row['State']=='Chhattisgarh'):\n",
    "            casuality.append([row['Killed'], row['Wounded']])\n",
    "            \n",
    "np_casuality = np.array(casuality)\n",
    "np_casuality[np_casuality == ''] = 0\n",
    "np_casuality = np.array(np_casuality, dtype=float)\n",
    "np_casulaity_1D = np.sum(np_casuality, axis=1)\n",
    "print(int(np.sum(np_casuality)))"
   ]
  },
  {
   "cell_type": "markdown",
   "id": "0746a5f1",
   "metadata": {
    "id": "Q9hMX_9MKXhm"
   },
   "source": [
    "#### [9] Terror City Casualty\n",
    "Find top 5 Indian Cities which has most number of casualties ?"
   ]
  },
  {
   "cell_type": "markdown",
   "id": "ce925d7d",
   "metadata": {
    "id": "-uRG6oZJKluW"
   },
   "source": [
    "Print count of Casualty as \n",
    "Note: Ignoring the City which is Unknown.\n",
    "Output Format :\n",
    "\n",
    "city_1 casualty_1(integer value) ...\n",
    "\n",
    "city_5 casualty_5"
   ]
  },
  {
   "cell_type": "code",
   "execution_count": null,
   "id": "fe36d516",
   "metadata": {
    "colab": {
     "base_uri": "https://localhost:8080/"
    },
    "id": "6jrFj4SGLAgP",
    "outputId": "de309e39-944e-48fa-fb5b-ab3cbd2e88cb"
   },
   "outputs": [
    {
     "name": "stdout",
     "output_type": "stream",
     "text": [
      "Srinagar 3134.0\n",
      "New Delhi 2095.0\n",
      "Mumbai 2016.0\n",
      "Jammu 1119.0\n",
      "Guwahati 822.0\n"
     ]
    }
   ],
   "source": [
    "import numpy as np\n",
    "import csv\n",
    "casuality = []\n",
    "city = []\n",
    "with open('/content/drive/MyDrive/Colab Notebooks/10terrorismData.csv','r',encoding='ISO-8859-1') as file_obj:\n",
    "    file_dict = csv.DictReader(file_obj, skipinitialspace = True)\n",
    "    for row in file_dict:\n",
    "        if (row['Country']=='India') and (row[\"City\"]!='Unknown'):\n",
    "            casuality.append([row['Killed'],row['Wounded']])\n",
    "            city.append(row['City'])\n",
    "\n",
    "np_casuality = np.array(casuality)\n",
    "np_casuality[np_casuality == ''] = 0\n",
    "np_casuality = np.array(np_casuality, dtype=float)\n",
    "np_casulaity_1D = np.sum(np_casuality, axis=1)\n",
    "npcity=np.array(city)\n",
    "\n",
    "def cityWiseCasuality(city_arr, casu):\n",
    "    ansArr = []\n",
    "    city_list = np.unique(city_arr)\n",
    "    for city in city_list:\n",
    "        #finding all indx of particular city\n",
    "        indx, = np.where(city_arr == city)\n",
    "        sum = np.sum(casu[indx])\n",
    "        ansArr.append([sum, city])\n",
    "    ansArr.sort(reverse=True)\n",
    "    return ansArr\n",
    "\n",
    "city_casu = cityWiseCasuality(npcity, np_casulaity_1D)\n",
    "for i in range(5):\n",
    "    print(city_casu[i][1], city_casu[i][0])"
   ]
  },
  {
   "cell_type": "markdown",
   "id": "23b03deb",
   "metadata": {
    "id": "QSk6I4Y3P1mA"
   },
   "source": [
    "#### [10] Terrorism FrequentDay\n",
    "Find the most frequent day of attack in a terrorismDataset ? Print count of frequent day and number of attack as Integer value."
   ]
  },
  {
   "cell_type": "code",
   "execution_count": null,
   "id": "370d9cb7",
   "metadata": {
    "colab": {
     "base_uri": "https://localhost:8080/"
    },
    "id": "am9z_CN_j9c6",
    "outputId": "d171a4c6-ca1b-44e6-88f3-0c38eca9ca33"
   },
   "outputs": [
    {
     "name": "stdout",
     "output_type": "stream",
     "text": [
      "15 6500\n"
     ]
    }
   ],
   "source": [
    "import numpy as np\n",
    "import csv\n",
    "day = []\n",
    "with open('/content/drive/MyDrive/Colab Notebooks/10terrorismData.csv','r',encoding='ISO-8859-1') as file_obj:\n",
    "    file_dict = csv.DictReader(file_obj, skipinitialspace = True)\n",
    "    for row in file_dict:\n",
    "        day.append(row['Day'])\n",
    "\n",
    "npDay = np.array(day)\n",
    "uniqueDay, counts = np.unique(npDay, return_counts=True)\n",
    "indx = counts.argmax()\n",
    "print(uniqueDay[indx], counts[indx])"
   ]
  },
  {
   "cell_type": "code",
   "execution_count": null,
   "id": "73ed8ab6",
   "metadata": {
    "colab": {
     "base_uri": "https://localhost:8080/"
    },
    "id": "Bk7ytMMta-PZ",
    "outputId": "256f0044-cbe4-4909-f24c-f98e175b9562"
   },
   "outputs": [
    {
     "data": {
      "text/plain": [
       "(array(['0', '1', '10', '11', '12', '13', '14', '15', '16', '17', '18',\n",
       "        '19', '2', '20', '21', '22', '23', '24', '25', '26', '27', '28',\n",
       "        '29', '3', '30', '31', '4', '5', '6', '7', '8', '9'], dtype='<U2'),\n",
       " array([ 891, 6344, 6064, 5936, 6012, 6043, 6028, 6500, 6112, 5852, 5880,\n",
       "        5973, 5954, 5930, 5827, 5799, 5782, 5752, 5875, 5823, 5937, 6027,\n",
       "        5507, 6011, 5046, 3095, 6153, 5844, 5781, 5997, 5859, 6057]))"
      ]
     },
     "execution_count": 2,
     "metadata": {},
     "output_type": "execute_result"
    }
   ],
   "source": [
    "np.unique(npDay, return_counts=True)"
   ]
  },
  {
   "cell_type": "code",
   "execution_count": null,
   "id": "22097fef",
   "metadata": {
    "colab": {
     "base_uri": "https://localhost:8080/"
    },
    "id": "ksLgTMm-bQbb",
    "outputId": "e551875a-758d-423c-bc22-e57cccc7f262"
   },
   "outputs": [
    {
     "data": {
      "text/plain": [
       "array(['0', '1', '10', '11', '12', '13', '14', '15', '16', '17', '18',\n",
       "       '19', '2', '20', '21', '22', '23', '24', '25', '26', '27', '28',\n",
       "       '29', '3', '30', '31', '4', '5', '6', '7', '8', '9'], dtype='<U2')"
      ]
     },
     "execution_count": 7,
     "metadata": {},
     "output_type": "execute_result"
    }
   ],
   "source": [
    "np.unique(npDay) #by default return_counts=False"
   ]
  },
  {
   "cell_type": "code",
   "execution_count": null,
   "id": "d25b32d6",
   "metadata": {
    "colab": {
     "base_uri": "https://localhost:8080/"
    },
    "id": "eXibmGjQSp39",
    "outputId": "4e429c10-5d05-4c47-d26f-aaa8891ddf2c"
   },
   "outputs": [
    {
     "name": "stdout",
     "output_type": "stream",
     "text": [
      "15 6500\n"
     ]
    }
   ],
   "source": [
    "#without numpy\n",
    "import csv\n",
    "with open(\"/content/drive/MyDrive/Colab Notebooks/10terrorismData.csv\",encoding='ISO-8859-1') as file_obj:\n",
    "    file_data=csv.DictReader(file_obj)\n",
    "    \n",
    "    dict={}\n",
    "    for row in file_data:\n",
    "        day=row[\"Day\"]\n",
    "        dict[day]=dict.get(day,0)+1  # dic contains the maximum pairs \n",
    "        \n",
    "    max_key = max(dict, key=dict.get) # max key\n",
    "    max_value = max(dict.values()) #max value\n",
    "    print(max_key,max_value)"
   ]
  },
  {
   "cell_type": "code",
   "execution_count": null,
   "id": "c3840de3",
   "metadata": {
    "colab": {
     "base_uri": "https://localhost:8080/"
    },
    "id": "BQPFuAUUa3iH",
    "outputId": "3d4161c5-be6c-4fac-afb6-cf13a2a64b39"
   },
   "outputs": [
    {
     "data": {
      "text/plain": [
       "dict_values([5954, 891, 6344, 6011, 5781, 5859, 6057, 6064, 5936, 6012, 6043, 6028, 6500, 5973, 5930, 5827, 5799, 5875, 5823, 5937, 6027, 5046, 3095, 6153, 5997, 6112, 5852, 5880, 5782, 5752, 5844, 5507])"
      ]
     },
     "execution_count": 12,
     "metadata": {},
     "output_type": "execute_result"
    }
   ],
   "source": [
    "dict.values()"
   ]
  },
  {
   "cell_type": "code",
   "execution_count": null,
   "id": "43cccd58",
   "metadata": {
    "colab": {
     "base_uri": "https://localhost:8080/"
    },
    "id": "qu0k1dHDb-eB",
    "outputId": "77014968-725d-43b4-b774-99bc972a3eaf"
   },
   "outputs": [
    {
     "data": {
      "text/plain": [
       "<function dict.get>"
      ]
     },
     "execution_count": 16,
     "metadata": {},
     "output_type": "execute_result"
    }
   ],
   "source": [
    "dict.get"
   ]
  },
  {
   "cell_type": "code",
   "execution_count": null,
   "id": "c84f1a0b",
   "metadata": {
    "colab": {
     "base_uri": "https://localhost:8080/",
     "height": 37
    },
    "id": "4xfgW3q3cIxI",
    "outputId": "ba692926-9bee-4a8b-c1aa-97d97bd4823f"
   },
   "outputs": [
    {
     "data": {
      "application/vnd.google.colaboratory.intrinsic+json": {
       "type": "string"
      },
      "text/plain": [
       "'15'"
      ]
     },
     "execution_count": 18,
     "metadata": {},
     "output_type": "execute_result"
    }
   ],
   "source": [
    "max(dict, key=dict.get)"
   ]
  },
  {
   "cell_type": "code",
   "execution_count": null,
   "id": "7013e3de",
   "metadata": {
    "colab": {
     "base_uri": "https://localhost:8080/"
    },
    "id": "PWpjF0KMa3RN",
    "outputId": "820a9a0c-e97c-4158-de01-57c2403ef48d"
   },
   "outputs": [
    {
     "data": {
      "text/plain": [
       "{'0': 891,\n",
       " '1': 6344,\n",
       " '10': 6064,\n",
       " '11': 5936,\n",
       " '12': 6012,\n",
       " '13': 6043,\n",
       " '14': 6028,\n",
       " '15': 6500,\n",
       " '16': 6112,\n",
       " '17': 5852,\n",
       " '18': 5880,\n",
       " '19': 5973,\n",
       " '2': 5954,\n",
       " '20': 5930,\n",
       " '21': 5827,\n",
       " '22': 5799,\n",
       " '23': 5782,\n",
       " '24': 5752,\n",
       " '25': 5875,\n",
       " '26': 5823,\n",
       " '27': 5937,\n",
       " '28': 6027,\n",
       " '29': 5507,\n",
       " '3': 6011,\n",
       " '30': 5046,\n",
       " '31': 3095,\n",
       " '4': 6153,\n",
       " '5': 5844,\n",
       " '6': 5781,\n",
       " '7': 5997,\n",
       " '8': 5859,\n",
       " '9': 6057}"
      ]
     },
     "execution_count": 17,
     "metadata": {},
     "output_type": "execute_result"
    }
   ],
   "source": [
    "dict"
   ]
  },
  {
   "cell_type": "code",
   "execution_count": null,
   "id": "6ca540e8",
   "metadata": {},
   "outputs": [],
   "source": []
  }
 ],
 "metadata": {
  "kernelspec": {
   "display_name": "Python 3 (ipykernel)",
   "language": "python",
   "name": "python3"
  },
  "language_info": {
   "codemirror_mode": {
    "name": "ipython",
    "version": 3
   },
   "file_extension": ".py",
   "mimetype": "text/x-python",
   "name": "python",
   "nbconvert_exporter": "python",
   "pygments_lexer": "ipython3",
   "version": "3.9.7"
  }
 },
 "nbformat": 4,
 "nbformat_minor": 5
}
